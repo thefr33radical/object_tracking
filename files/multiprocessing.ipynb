{
  "nbformat": 4,
  "nbformat_minor": 0,
  "metadata": {
    "colab": {
      "name": "multiprocessing",
      "version": "0.3.2",
      "provenance": [],
      "include_colab_link": true
    },
    "kernelspec": {
      "name": "python3",
      "display_name": "Python 3"
    }
  },
  "cells": [
    {
      "cell_type": "markdown",
      "metadata": {
        "id": "view-in-github",
        "colab_type": "text"
      },
      "source": [
        "<a href=\"https://colab.research.google.com/github/thefr33radical/object_tracking/blob/master/files/multiprocessing.ipynb\" target=\"_parent\"><img src=\"https://colab.research.google.com/assets/colab-badge.svg\" alt=\"Open In Colab\"/></a>"
      ]
    },
    {
      "cell_type": "code",
      "metadata": {
        "id": "CXDnooijQCsA",
        "colab_type": "code",
        "colab": {}
      },
      "source": [
        "\n"
      ],
      "execution_count": 0,
      "outputs": []
    },
    {
      "cell_type": "markdown",
      "metadata": {
        "id": "YqhiIXTXTCkL",
        "colab_type": "text"
      },
      "source": [
        "#### References\n",
        "* https://realpython.com/python-concurrency/\n",
        "* "
      ]
    },
    {
      "cell_type": "code",
      "metadata": {
        "id": "FkdmBvPpTN5m",
        "colab_type": "code",
        "colab": {}
      },
      "source": [
        "# single process, single thread\n",
        "\n",
        "import requests,time\n",
        "\n",
        "\n",
        "def downloadsite(obj,link):\n",
        "  with obj.get(link) as response:\n",
        "    \n",
        "    print(f\"read :{len(response.content)} from {link}\")\n",
        "\n",
        "def downloadallsites(url):\n",
        "  with requests.session() as obj:\n",
        "    for link in url:\n",
        "      downloadsite(obj,link)\n",
        "      \n",
        "sites = [\n",
        "        \"https://www.jython.org\",\n",
        "        \"http://olympus.realpython.org/dice\",\n",
        "    ] * 80\n",
        "start_time = time.time()\n",
        "downloadallsites(sites)\n",
        "duration = time.time() - start_time\n",
        "print(f\" Time taken for {len(sites)} is {duration}\")\n",
        "  \n",
        "  \n",
        "\n"
      ],
      "execution_count": 0,
      "outputs": []
    },
    {
      "cell_type": "code",
      "metadata": {
        "id": "hl-VKkAnW0Gb",
        "colab_type": "code",
        "colab": {}
      },
      "source": [
        " # Single process multiple threads  \n",
        "  \n",
        "  "
      ],
      "execution_count": 0,
      "outputs": []
    }
  ]
}