{
  "nbformat": 4,
  "nbformat_minor": 0,
  "metadata": {
    "colab": {
      "name": "multiprocessing",
      "version": "0.3.2",
      "provenance": [],
      "include_colab_link": true
    },
    "kernelspec": {
      "name": "python3",
      "display_name": "Python 3"
    }
  },
  "cells": [
    {
      "cell_type": "markdown",
      "metadata": {
        "id": "view-in-github",
        "colab_type": "text"
      },
      "source": [
        "<a href=\"https://colab.research.google.com/github/thefr33radical/object_tracking/blob/master/files/multiprocessing.ipynb\" target=\"_parent\"><img src=\"https://colab.research.google.com/assets/colab-badge.svg\" alt=\"Open In Colab\"/></a>"
      ]
    },
    {
      "cell_type": "code",
      "metadata": {
        "id": "CXDnooijQCsA",
        "colab_type": "code",
        "colab": {}
      },
      "source": [
        "\n"
      ],
      "execution_count": 0,
      "outputs": []
    },
    {
      "cell_type": "markdown",
      "metadata": {
        "id": "YqhiIXTXTCkL",
        "colab_type": "text"
      },
      "source": [
        "#### References\n",
        "* https://realpython.com/python-concurrency/\n",
        "* "
      ]
    },
    {
      "cell_type": "code",
      "metadata": {
        "id": "FkdmBvPpTN5m",
        "colab_type": "code",
        "colab": {}
      },
      "source": [
        "# single process, single thread\n",
        "\n",
        "import requests,time\n",
        "\n",
        "\n",
        "def downloadsite(obj,link):\n",
        "  with obj.get(link) as response:\n",
        "    \n",
        "    print(f\"read :{len(response.content)} from {link}\")\n",
        "\n",
        "def downloadallsites(url):\n",
        "  with requests.session() as obj:\n",
        "    for link in url:\n",
        "      downloadsite(obj,link)\n",
        "      \n",
        "sites = [\n",
        "        \"https://www.jython.org\",\n",
        "        \"http://olympus.realpython.org/dice\",\n",
        "    ] * 80\n",
        "start_time = time.time()\n",
        "downloadallsites(sites)\n",
        "duration = time.time() - start_time\n",
        "print(f\" Time taken for {len(sites)} is {duration}\")\n",
        "  \n",
        "  \n",
        "\n"
      ],
      "execution_count": 0,
      "outputs": []
    },
    {
      "cell_type": "code",
      "metadata": {
        "id": "hl-VKkAnW0Gb",
        "colab_type": "code",
        "colab": {}
      },
      "source": [
        " # Single process multiple threads  \n",
        "  \n",
        "import requests,time\n",
        "import concurrency.futures\n",
        "import threading\n",
        "\n",
        "threadlocal=threading.local()\n",
        "\n",
        "\n",
        "def downloadsite(obj,link):\n",
        "  with obj.get(link) as response:\n",
        "    \n",
        "    print(f\"read :{len(response.content)} from {link}\")\n",
        "\n",
        "def downloadallsites(url):\n",
        "  with requests.session() as obj:\n",
        "    for link in url:\n",
        "      downloadsite(obj,link)\n",
        "      \n",
        "sites = [\n",
        "        \"https://www.jython.org\",\n",
        "        \"http://olympus.realpython.org/dice\",\n",
        "    ] * 80\n",
        "start_time = time.time()\n",
        "downloadallsites(sites)\n",
        "duration = time.time() - start_time\n",
        "print(f\" Time taken for {len(sites)} is {duration}\")\n",
        "  \n",
        "  \n",
        "\n",
        "  "
      ],
      "execution_count": 0,
      "outputs": []
    },
    {
      "cell_type": "code",
      "metadata": {
        "id": "Bh7eF2kKXDyt",
        "colab_type": "code",
        "colab": {}
      },
      "source": [
        "# Async io\n",
        "\n",
        "try:\n",
        "  import asyncio\n",
        "  \n",
        "except:\n",
        "  !pip install asyncio\n",
        "  \n",
        "try:\n",
        "  import aiohttp\n",
        "except:\n",
        "  !pip install aiohttp\n",
        "import time\n",
        "\n",
        "async def downloadsite(obj,url):\n",
        "  async with obj.get(url) as resp:\n",
        "    print(f\"read {resp.content} from {url}\")\n",
        "    \n",
        "    \n",
        "async def downloadall(urls):\n",
        "  async with aiohttp.ClientSession() as session:\n",
        "    tasks=[]\n",
        "    for url in urls:\n",
        "      task=asyncio.ensure_future(downloadsite(session,url))\n",
        "      tasks.append(task)\n",
        "      \n",
        "    await asyncio.gather(*tasks,return_exceptions=True)\n",
        "\n",
        "\n",
        "if __name__ == \"__main__\":\n",
        "    sites = [\n",
        "        \"https://www.jython.org\",\n",
        "        \"http://olympus.realpython.org/dice\",\n",
        "    ] * 80\n",
        "    start_time = time.time()\n",
        "    asyncio.get_event_loop().run_until_complete(downloadall(sites))\n",
        "    duration = time.time() - start_time\n",
        "    print(f\"Downloaded {len(sites)} sites in {duration} seconds\")"
      ],
      "execution_count": 0,
      "outputs": []
    },
    {
      "cell_type": "code",
      "metadata": {
        "id": "tKQXOnzJkRmT",
        "colab_type": "code",
        "colab": {}
      },
      "source": [
        "# multiprocessing\n",
        "\n",
        "try:\n",
        "  import multiprocessing\n",
        "except:\n",
        "  !pip install multiprocessing\n",
        "  \n",
        "import requests, time\n",
        "\n",
        "session=None\n",
        "\n",
        "def setglobalsession():\n",
        "  global session\n",
        "  if not session:\n",
        "    session=requests.Session()\n",
        "\n",
        "\n",
        "def downloadsite(url):\n",
        "  with session.get(url) as resp:\n",
        "    print(f\"read {resp.content} from {url}\")\n",
        "    \n",
        "def downloadall(urls):\n",
        "  with multiprocessing.Pool(initializer=setglobalsession) as obj:\n",
        "    obj.map(downloadsite,urls)\n",
        "    \n",
        "\n",
        "if __name__ == \"__main__\":\n",
        "    sites = [\n",
        "        \"https://www.jython.org\",\n",
        "        \"http://olympus.realpython.org/dice\",\n",
        "    ] * 80\n",
        "    start_time = time.time()\n",
        "    downloadall(sites)\n",
        "    duration = time.time() - start_time\n",
        "    print(f\"Downloaded {len(sites)} in {duration} seconds\")"
      ],
      "execution_count": 0,
      "outputs": []
    }
  ]
}